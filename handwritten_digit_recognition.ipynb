{
 "cells": [
  {
   "cell_type": "code",
   "execution_count": 9,
   "id": "992ecd39",
   "metadata": {},
   "outputs": [
    {
     "name": "stdout",
     "output_type": "stream",
     "text": [
      "Automatically created module for IPython interactive environment\n"
     ]
    }
   ],
   "source": [
    "print(__doc__)\n",
    "\n",
    "from time import time\n",
    "import numpy as np\n",
    "import matplotlib.pyplot as plt\n",
    "\n",
    "from sklearn import metrics\n",
    "from sklearn.cluster import KMeans\n",
    "from sklearn.datasets import load_digits\n",
    "from sklearn.decomposition import PCA\n",
    "from sklearn.preprocessing import scale\n"
   ]
  },
  {
   "cell_type": "code",
   "execution_count": 10,
   "id": "69d545b0",
   "metadata": {},
   "outputs": [
    {
     "name": "stdout",
     "output_type": "stream",
     "text": [
      "n_digits: 10, \t n_samples: 1797, \t n_features: 64\n"
     ]
    }
   ],
   "source": [
    "np.random.seed(42)\n",
    "\n",
    "digits = load_digits()\n",
    "data = scale(digits.data)\n",
    "\n",
    "n_samples, n_features = data.shape\n",
    "n_digits = len(np.unique(digits.target))\n",
    "labels = digits.target\n",
    "\n",
    "sample_size = 300\n",
    "\n",
    "print(\"n_digits: %d, \\t n_samples: %d, \\t n_features: %d\"\n",
    "     %(n_digits, n_samples, n_features))"
   ]
  },
  {
   "cell_type": "code",
   "execution_count": 13,
   "id": "e6dc6a7e",
   "metadata": {},
   "outputs": [
    {
     "name": "stdout",
     "output_type": "stream",
     "text": [
      "k-means++\t0.24s\t69979\t0.607\t0.657\t0.631\t0.482\t0.628\t0.137\n",
      "random   \t0.18s\t69668\t0.676\t0.715\t0.695\t0.564\t0.692\t0.149\n",
      "PCA based\t0.03s\t70804\t0.671\t0.697\t0.684\t0.561\t0.680\t0.127\n"
     ]
    }
   ],
   "source": [
    "def bench_k_means(estimator, name, data):\n",
    "    to = time() \n",
    "    estimator.fit(data) \n",
    "    print('%-9s\\t%.2fs\\t%i\\t%.3f\\t%.3f\\t%.3f\\t%.3f\\t%.3f\\t%.3f'\n",
    "        % (name, (time() - to), estimator.inertia_,\n",
    "        metrics.homogeneity_score(labels, estimator.labels_),\n",
    "        metrics.completeness_score(labels, estimator.labels_),\n",
    "        metrics.v_measure_score(labels, estimator.labels_),\n",
    "        metrics.adjusted_rand_score(labels, estimator.labels_),\n",
    "        metrics.adjusted_mutual_info_score(labels, estimator.labels_), \n",
    "        metrics.silhouette_score(data, estimator.labels_, metric=\n",
    "                            'euclidean', sample_size = sample_size)))\n",
    "    \n",
    "bench_k_means(KMeans(init='k-means++', n_clusters=n_digits, n_init=10),\n",
    "                name=\"k-means++\", data=data) \n",
    "bench_k_means(KMeans(init='random', n_clusters=n_digits, n_init=10),\n",
    "                name=\"random\", data=data)\n",
    "pca = PCA(n_components=n_digits).fit(data) \n",
    "bench_k_means(KMeans(init=pca.components_, n_clusters=n_digits, n_init=1),\n",
    "                name=\"PCA based\", data=data)"
   ]
  },
  {
   "cell_type": "code",
   "execution_count": null,
   "id": "b634f1f6",
   "metadata": {},
   "outputs": [],
   "source": []
  }
 ],
 "metadata": {
  "kernelspec": {
   "display_name": "Python 3 (ipykernel)",
   "language": "python",
   "name": "python3"
  },
  "language_info": {
   "codemirror_mode": {
    "name": "ipython",
    "version": 3
   },
   "file_extension": ".py",
   "mimetype": "text/x-python",
   "name": "python",
   "nbconvert_exporter": "python",
   "pygments_lexer": "ipython3",
   "version": "3.9.7"
  }
 },
 "nbformat": 4,
 "nbformat_minor": 5
}
